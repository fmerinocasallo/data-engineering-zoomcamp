{
 "cells": [
  {
   "cell_type": "markdown",
   "metadata": {},
   "source": [
    "# NYC taxi data cleaning"
   ]
  },
  {
   "cell_type": "markdown",
   "metadata": {},
   "source": [
    "## Load packages and NYC taxi data from January 2021."
   ]
  },
  {
   "cell_type": "markdown",
   "metadata": {},
   "source": [
    "Load packages."
   ]
  },
  {
   "cell_type": "code",
   "execution_count": 1,
   "metadata": {},
   "outputs": [],
   "source": [
    "import datetime\n",
    "from pathlib import Path\n",
    "\n",
    "import pandas as pd"
   ]
  },
  {
   "cell_type": "markdown",
   "metadata": {},
   "source": [
    "Load NYC taxi data from January 2021."
   ]
  },
  {
   "cell_type": "code",
   "execution_count": 2,
   "metadata": {},
   "outputs": [],
   "source": [
    "DATA_PATH = Path(\"/home/fmerino/Documents/data-engineering-zoomcamp-2024/01-docker-terraform/02-docker-sql/data-nyc-taxi\")"
   ]
  },
  {
   "cell_type": "code",
   "execution_count": null,
   "metadata": {},
   "outputs": [],
   "source": [
    "nyc_taxi = pd.read_parquet(DATA_PATH/\"yellow_tripdata_2021-01.parquet\")\n",
    "\n",
    "nyc_taxi"
   ]
  },
  {
   "cell_type": "code",
   "execution_count": null,
   "metadata": {},
   "outputs": [],
   "source": [
    "nyc_taxi.dtypes"
   ]
  },
  {
   "cell_type": "markdown",
   "metadata": {},
   "source": [
    "Discard `store_and_fwd_flag` details because of its lack of relevance."
   ]
  },
  {
   "cell_type": "code",
   "execution_count": 5,
   "metadata": {},
   "outputs": [],
   "source": [
    "del nyc_taxi[\"store_and_fwd_flag\"]"
   ]
  },
  {
   "cell_type": "markdown",
   "metadata": {},
   "source": [
    "Check number of unique values per column/attribute and identify potential categorical values."
   ]
  },
  {
   "cell_type": "code",
   "execution_count": null,
   "metadata": {},
   "outputs": [],
   "source": [
    "for column in nyc_taxi.columns:\n",
    "    if nyc_taxi[column].nunique() < 10:\n",
    "        print(f\"Column {column} includes {nyc_taxi[column].nunique()} unique values ({nyc_taxi[column].unique()}).\")\n",
    "    else:\n",
    "        print(f\"Column {column} includes {nyc_taxi[column].nunique()} unique values.\")"
   ]
  },
  {
   "cell_type": "code",
   "execution_count": null,
   "metadata": {},
   "outputs": [],
   "source": [
    "nyc_taxi.describe()"
   ]
  },
  {
   "cell_type": "markdown",
   "metadata": {},
   "source": [
    "Compute delta time (time elapsed between pickup and dropoff)."
   ]
  },
  {
   "cell_type": "code",
   "execution_count": 8,
   "metadata": {},
   "outputs": [],
   "source": [
    "nyc_taxi[\"dt\"] = (\n",
    "    nyc_taxi[\"tpep_dropoff_datetime\"]\n",
    "    - nyc_taxi[\"tpep_pickup_datetime\"]\n",
    ")"
   ]
  },
  {
   "cell_type": "code",
   "execution_count": 9,
   "metadata": {},
   "outputs": [],
   "source": [
    "nyc_taxi[\"avg_speed\"] = (\n",
    "    nyc_taxi[\"trip_distance\"]\n",
    "    / (nyc_taxi[\"dt\"]/pd.Timedelta(hours=1))\n",
    ")"
   ]
  },
  {
   "cell_type": "code",
   "execution_count": 10,
   "metadata": {},
   "outputs": [],
   "source": [
    "relevant_cols = [\n",
    "    \"tpep_pickup_datetime\",\n",
    "    \"tpep_dropoff_datetime\",\n",
    "    \"dt\",\n",
    "    \"trip_distance\",\n",
    "    \"avg_speed\",\n",
    "    \"PULocationID\",\n",
    "    \"DOLocationID\",\n",
    "    \"passenger_count\",\n",
    "    \"total_amount\",\n",
    "]"
   ]
  },
  {
   "cell_type": "markdown",
   "metadata": {},
   "source": [
    "Reorder columns/attributes based on its relevance."
   ]
  },
  {
   "cell_type": "code",
   "execution_count": 11,
   "metadata": {},
   "outputs": [],
   "source": [
    "nyc_taxi = nyc_taxi[\n",
    "    [\n",
    "        \"tpep_pickup_datetime\",\n",
    "        \"tpep_dropoff_datetime\",\n",
    "        \"dt\",\n",
    "        \"trip_distance\",\n",
    "        \"avg_speed\",\n",
    "        \"PULocationID\",\n",
    "        \"DOLocationID\",\n",
    "        \"RatecodeID\",\n",
    "        \"passenger_count\",\n",
    "        \"total_amount\",\n",
    "        \"fare_amount\",\n",
    "        \"tip_amount\",\n",
    "        \"tolls_amount\",\n",
    "        \"extra\",\n",
    "        \"mta_tax\",\n",
    "        \"improvement_surcharge\",\n",
    "        \"congestion_surcharge\",\n",
    "        \"airport_fee\",\n",
    "        \"payment_type\",\n",
    "        \"VendorID\",\n",
    "    ]\n",
    "].copy()"
   ]
  },
  {
   "cell_type": "markdown",
   "metadata": {},
   "source": [
    "## Discard trips considered bad data."
   ]
  },
  {
   "cell_type": "markdown",
   "metadata": {},
   "source": [
    "Note that we cannot discuss with the business experts how to identify bad data and, therefore, our hability to do so is limited.\n",
    "Next, we propose several scenarios that could identify bad data using our shallow understanding in this sector."
   ]
  },
  {
   "cell_type": "markdown",
   "metadata": {},
   "source": [
    "- Discard trips outside the analyzed time period (January 2021)."
   ]
  },
  {
   "cell_type": "code",
   "execution_count": 12,
   "metadata": {},
   "outputs": [],
   "source": [
    "nyc_taxi.drop(\n",
    "    nyc_taxi[\n",
    "        (nyc_taxi[\"tpep_pickup_datetime\"] < datetime.datetime(year=2021, month=1, day=1))\n",
    "        | (nyc_taxi[\"tpep_pickup_datetime\"] > datetime.datetime(year=2021, month=2, day=1))\n",
    "        | (nyc_taxi[\"tpep_dropoff_datetime\"] < datetime.datetime(year=2021, month=1, day=1))\n",
    "        | (nyc_taxi[\"tpep_dropoff_datetime\"] > datetime.datetime(year=2021, month=2, day=1))\n",
    "    ].index,\n",
    "    inplace=True,\n",
    ")"
   ]
  },
  {
   "cell_type": "markdown",
   "metadata": {},
   "source": [
    "- Discard trips with invalid `VendorID` values."
   ]
  },
  {
   "cell_type": "code",
   "execution_count": 13,
   "metadata": {},
   "outputs": [],
   "source": [
    "nyc_taxi.drop(nyc_taxi[nyc_taxi[\"VendorID\"] == 6].index, inplace=True)"
   ]
  },
  {
   "cell_type": "markdown",
   "metadata": {},
   "source": [
    "- Discard trips with invalid `RatecodeID` values and convert to `int64` this column/attribute."
   ]
  },
  {
   "cell_type": "code",
   "execution_count": 14,
   "metadata": {},
   "outputs": [],
   "source": [
    "nyc_taxi.drop(\n",
    "    nyc_taxi[\n",
    "        (nyc_taxi[\"RatecodeID\"].isna())\n",
    "        | (nyc_taxi[\"RatecodeID\"] == 99.0)\n",
    "    ].index,\n",
    "    inplace=True,\n",
    ")"
   ]
  },
  {
   "cell_type": "code",
   "execution_count": 15,
   "metadata": {},
   "outputs": [],
   "source": [
    "nyc_taxi[\"RatecodeID\"] = nyc_taxi[\"RatecodeID\"].astype(\"int64\")"
   ]
  },
  {
   "cell_type": "markdown",
   "metadata": {},
   "source": [
    "- By law, a maximum of 4 passengers are allowed in standard NYC taxis. A child under 7 is allowed to sit on a passenger's lap in the rear seat in addition to the passenger limit. Therefore, discard trips with more than 5 passengers. Also, discard trips with no passengers."
   ]
  },
  {
   "cell_type": "code",
   "execution_count": 16,
   "metadata": {},
   "outputs": [],
   "source": [
    "nyc_taxi.drop(nyc_taxi[(nyc_taxi[\"passenger_count\"] > 5) | (nyc_taxi[\"passenger_count\"] == 0)].index, inplace=True)"
   ]
  },
  {
   "cell_type": "code",
   "execution_count": 17,
   "metadata": {},
   "outputs": [],
   "source": [
    "nyc_taxi[\"passenger_count\"] = nyc_taxi[\"passenger_count\"].astype(\"int64\")"
   ]
  },
  {
   "cell_type": "markdown",
   "metadata": {},
   "source": [
    "- Discard trips with negative or nil distance."
   ]
  },
  {
   "cell_type": "code",
   "execution_count": 18,
   "metadata": {},
   "outputs": [],
   "source": [
    "nyc_taxi.drop(nyc_taxi[nyc_taxi[\"trip_distance\"] <= 0].index, inplace=True)"
   ]
  },
  {
   "cell_type": "markdown",
   "metadata": {},
   "source": [
    "- Discard trips with a negligible duration (lower than 1 minute)."
   ]
  },
  {
   "cell_type": "code",
   "execution_count": 19,
   "metadata": {},
   "outputs": [],
   "source": [
    "nyc_taxi.drop(nyc_taxi[nyc_taxi[\"dt\"]/pd.Timedelta(minutes=1) < 1].index, inplace=True)"
   ]
  },
  {
   "cell_type": "markdown",
   "metadata": {},
   "source": [
    "- Discard trips with a negative average speed (i.e., the trip distance or duration is negative)."
   ]
  },
  {
   "cell_type": "code",
   "execution_count": 20,
   "metadata": {},
   "outputs": [],
   "source": [
    "nyc_taxi.drop(nyc_taxi[nyc_taxi[\"avg_speed\"] < 0].index, inplace=True)"
   ]
  },
  {
   "cell_type": "markdown",
   "metadata": {},
   "source": [
    "- Discard trips from or to outside NYC with an average speed higher than 75 mph (max freeway speed limit in the surrounding states)."
   ]
  },
  {
   "cell_type": "code",
   "execution_count": 21,
   "metadata": {},
   "outputs": [],
   "source": [
    "nyc_taxi.drop(\n",
    "    nyc_taxi[\n",
    "        (nyc_taxi[\"avg_speed\"] > 75)\n",
    "        & (\n",
    "            (nyc_taxi[\"PULocationID\"] > 263)\n",
    "            | (nyc_taxi[\"DOLocationID\"] > 263)\n",
    "        )\n",
    "    ].index,\n",
    "    inplace=True,\n",
    ")"
   ]
  },
  {
   "cell_type": "markdown",
   "metadata": {},
   "source": [
    "- Discard trips within NYC with an average speed higher than 50 mph (max speed limit in NYC)."
   ]
  },
  {
   "cell_type": "code",
   "execution_count": 22,
   "metadata": {},
   "outputs": [],
   "source": [
    "nyc_taxi.drop(\n",
    "    nyc_taxi[\n",
    "        (nyc_taxi[\"avg_speed\"] > 50)\n",
    "        & (\n",
    "            (nyc_taxi[\"PULocationID\"] < 264)\n",
    "            & (nyc_taxi[\"DOLocationID\"] < 264)\n",
    "        )\n",
    "    ].index,\n",
    "    inplace=True,\n",
    ")"
   ]
  },
  {
   "cell_type": "markdown",
   "metadata": {},
   "source": [
    "- Discard trips taking more than 1 hour at an average speed lower than 3 mph, as it is assumed these slow trips cannot even be associated with traffic jams, even in NYC."
   ]
  },
  {
   "cell_type": "code",
   "execution_count": 23,
   "metadata": {},
   "outputs": [],
   "source": [
    "nyc_taxi.drop(\n",
    "    nyc_taxi[\n",
    "        (nyc_taxi[\"dt\"]/pd.Timedelta(hours=1) > 1)\n",
    "        & (nyc_taxi[\"avg_speed\"] < 3)\n",
    "    ].index,\n",
    "    inplace=True,\n",
    ")"
   ]
  },
  {
   "cell_type": "markdown",
   "metadata": {},
   "source": [
    "Check value ranges for the most relevant columns/attributes."
   ]
  },
  {
   "cell_type": "code",
   "execution_count": null,
   "metadata": {},
   "outputs": [],
   "source": [
    "nyc_taxi[relevant_cols].describe()"
   ]
  },
  {
   "cell_type": "code",
   "execution_count": null,
   "metadata": {},
   "outputs": [],
   "source": [
    "nyc_taxi.query(\"passenger_count == 0\")[relevant_cols].describe()"
   ]
  },
  {
   "cell_type": "markdown",
   "metadata": {},
   "source": [
    "Reset index after data processing."
   ]
  },
  {
   "cell_type": "code",
   "execution_count": 26,
   "metadata": {},
   "outputs": [],
   "source": [
    "nyc_taxi.reset_index(drop=True, inplace=True)"
   ]
  },
  {
   "cell_type": "markdown",
   "metadata": {},
   "source": [
    "## Save processed data on disk."
   ]
  },
  {
   "cell_type": "markdown",
   "metadata": {},
   "source": [
    "Save processed NYC taxi data from January 2021 on disk (PARQUET format, as the original data)."
   ]
  },
  {
   "cell_type": "code",
   "execution_count": 27,
   "metadata": {},
   "outputs": [],
   "source": [
    "nyc_taxi.to_parquet(DATA_PATH/\"yellow_tripdata_2021-01_prepared.parquet\")"
   ]
  }
 ],
 "metadata": {
  "kernelspec": {
   "display_name": "data-engineering-zoomcamp",
   "language": "python",
   "name": "python3"
  },
  "language_info": {
   "codemirror_mode": {
    "name": "ipython",
    "version": 3
   },
   "file_extension": ".py",
   "mimetype": "text/x-python",
   "name": "python",
   "nbconvert_exporter": "python",
   "pygments_lexer": "ipython3",
   "version": "3.12.4"
  }
 },
 "nbformat": 4,
 "nbformat_minor": 2
}
