{
 "cells": [
  {
   "cell_type": "markdown",
   "metadata": {},
   "source": [
    "# Ingesting NYC taxi data into PostgreSQL database"
   ]
  },
  {
   "cell_type": "markdown",
   "metadata": {},
   "source": [
    "## Load packages and NYC taxi data from January 2021."
   ]
  },
  {
   "cell_type": "markdown",
   "metadata": {},
   "source": [
    "Load packages."
   ]
  },
  {
   "cell_type": "code",
   "execution_count": 1,
   "metadata": {},
   "outputs": [],
   "source": [
    "from pathlib import Path\n",
    "\n",
    "import pandas as pd\n",
    "import sqlalchemy as sa"
   ]
  },
  {
   "cell_type": "markdown",
   "metadata": {},
   "source": [
    "Load NYC taxi data from January 2021."
   ]
  },
  {
   "cell_type": "code",
   "execution_count": 2,
   "metadata": {},
   "outputs": [],
   "source": [
    "DATA_PATH = Path(\n",
    "    \"../data/\"\n",
    ")\n",
    "\n",
    "PGSERVER_PATH = Path(\n",
    "    \"../../pg-server/\"\n",
    ")\n",
    "\n",
    "HOST_PATH = Path(\n",
    "    \"../../host/\"\n",
    ")\n",
    "\n",
    "CERTS_PATH = Path(\n",
    "    \"../certs/\"\n",
    ")"
   ]
  },
  {
   "cell_type": "code",
   "execution_count": null,
   "metadata": {},
   "outputs": [],
   "source": [
    "nyc_taxi = pd.read_parquet(DATA_PATH/\"yellow_tripdata_2021-01_prepared.parquet\")\n",
    "\n",
    "nyc_taxi"
   ]
  },
  {
   "cell_type": "markdown",
   "metadata": {},
   "source": [
    "## Define PostgreSQL schema for the table storing NYC taxi data"
   ]
  },
  {
   "cell_type": "markdown",
   "metadata": {},
   "source": [
    "Define the SQLAlchemy engine to enable communications between a client and our PostgreSQL server."
   ]
  },
  {
   "cell_type": "code",
   "execution_count": 4,
   "metadata": {},
   "outputs": [],
   "source": [
    "username = \"fmerinocasallo_writer\"\n",
    "passwd = open(PGSERVER_PATH/\"passwds/pg-fmerinocasallo_writer-passwd.txt\").readline().rstrip()\n",
    "\n",
    "hostname = \"172.19.0.70\"\n",
    "port = [\n",
    "    line.split(\" \")[2].rstrip()\n",
    "    for line in open(PGSERVER_PATH/\"conf/postgresql.conf\").readlines()\n",
    "    if line.startswith(\"port\")\n",
    "][-1]\n",
    "\n",
    "database = \"de_zoomcamp\"\n",
    "schema = \"nyc_taxi\"\n",
    "\n",
    "url = f\"postgresql://{username}:{passwd}@{hostname}/{database}\"\n",
    "connect_args = {\n",
    "    \"port\": port,\n",
    "    \"sslmode\": \"verify-full\",\n",
    "    \"sslrootcert\": PGSERVER_PATH/\"certs/ca/server/server-ca.crt\",\n",
    "    \"sslcert\": HOST_PATH/\"certs/client/writer/fmerinocasallo_writer.crt\",\n",
    "    \"sslkey\": HOST_PATH/\"certs/client/writer/fmerinocasallo_writer.key\",\n",
    "}\n",
    "\n",
    "engine = sa.create_engine(url=url, connect_args=connect_args, echo=True)"
   ]
  },
  {
   "cell_type": "markdown",
   "metadata": {},
   "source": [
    "Check Panda's suggested SQL statement to create a new table that will store the processed data."
   ]
  },
  {
   "cell_type": "code",
   "execution_count": null,
   "metadata": {},
   "outputs": [],
   "source": [
    "print(pd.io.sql.get_schema(nyc_taxi, \"nyc_taxi\"))"
   ]
  },
  {
   "cell_type": "markdown",
   "metadata": {},
   "source": [
    "Define the schema for a new PostgreSQL table storing NYC taxi data associated with trips during January 2021. According\n",
    "to [PostgreSQL's official documentation](https://www.postgresql.org/docs/current/datatype-numeric.html):\n",
    "\n",
    "1. On all currently supported platforms, the `REAL` type has a range of around 1E-37 to 1E+37 with a\n",
    "precision of at least 6 decimal digits. The `DOUBLE PRECISION` type has a range of around 1E-307 to 1E+308 with a\n",
    "precision of at least 15 digits.\n",
    "2. The type `INTEGER` is the common choice, as it offers the best balance between range, storage size, and performance.\n",
    "The `SMALLINT` type is generally only used if disk space is at a premium. The `BIGINT` type is designed to be used when\n",
    "the range of the `INTEGER` type is insufficient.\n",
    "\n",
    "For our specific use case, we assume `REAL` and `INTEGER` to be the most suitable data types for all the numerical\n",
    "columns/attributes except `dt`. For the `dt` column/attribute, which originally stored the duration of each trip as\n",
    "'timedelta' values in our PARQUET file and now will store this information as integer values (ns frequency) in the\n",
    "database, we opt for `BIGINT`. Note that 15 minutes equals 9E+11 ns. Using these inexact data types instead of\n",
    "`NUMERIC`/`DECIMAL` will offer noticeable performance gains at the expense of negligible precision losses, as monetary\n",
    "amounts in this sector are stored with only 2 decimal digits at most."
   ]
  },
  {
   "cell_type": "markdown",
   "metadata": {},
   "source": [
    "Define the PostgreSQL schema for the table storing the NYC taxi data associated with the trips from January 2021."
   ]
  },
  {
   "cell_type": "code",
   "execution_count": 6,
   "metadata": {},
   "outputs": [],
   "source": [
    "table_name = \"yellow_taxi_trips\" \n",
    "\n",
    "schema_name = \"nyc_taxi\"\n",
    "schema_dtypes = {\n",
    "    \"tpep_pickup_datetime\": sa.types.TIMESTAMP,\n",
    "    \"tpep_dropoff_datetime\": sa.types.TIMESTAMP,\n",
    "    \"dt\": sa.types.BIGINT,\n",
    "\t\"trip_distance\": sa.types.REAL,\n",
    "\t\"avg_speed\": sa.types.REAL,\n",
    "\t\"PULocationID\": sa.types.INTEGER,\n",
    "\t\"DOLocationID\": sa.types.INTEGER,\n",
    "\t\"RatecodeID\": sa.types.INTEGER,\n",
    "\t\"passenger_count\": sa.types.INTEGER,\n",
    "\t\"total_amount\": sa.types.REAL,\n",
    "\t\"fare_amount\": sa.types.REAL,\n",
    "\t\"tip_amount\": sa.types.REAL,\n",
    "\t\"tolls_amount\": sa.types.REAL,\n",
    "\t\"extra\": sa.types.REAL,\n",
    "\t\"mta_tax\": sa.types.REAL,\n",
    "\t\"improvement_surcharge\": sa.types.REAL,\n",
    "\t\"congestion_surcharge\": sa.types.REAL,\n",
    "\t\"airport_fee\": sa.types.REAL,\n",
    "\t\"payment_type\": sa.types.INTEGER,\n",
    "\t\"VendorID\": sa.types.INTEGER,\n",
    "}"
   ]
  },
  {
   "cell_type": "markdown",
   "metadata": {},
   "source": [
    "## Ingesting NYC taxi data from January 2021 to our PostgreSQL database"
   ]
  },
  {
   "cell_type": "markdown",
   "metadata": {},
   "source": [
    "Create a new table `yellow_taxi_trips`."
   ]
  },
  {
   "cell_type": "code",
   "execution_count": null,
   "metadata": {},
   "outputs": [],
   "source": [
    "nyc_taxi.head(n=0).to_sql(name=table_name, con=engine, schema=schema_name, if_exists=\"replace\", index=False, dtype=schema_dtypes)"
   ]
  },
  {
   "cell_type": "markdown",
   "metadata": {},
   "source": [
    "Ingesting NYC taxi data with January 2021 trips into the newly created PostgreSQL table `yellow_taxi_trips`."
   ]
  },
  {
   "cell_type": "code",
   "execution_count": null,
   "metadata": {},
   "outputs": [],
   "source": [
    "nyc_taxi.to_sql(name=table_name, con=engine, schema=schema_name, if_exists=\"append\", index=False, dtype=schema_dtypes)"
   ]
  },
  {
   "cell_type": "markdown",
   "metadata": {},
   "source": [
    "Grant SELECT permissions (ro) to the `reader` role for the newly created `nyc_taxi.yellow_taxi_trips`. Otherwise, `reader`s won't be able to access it."
   ]
  },
  {
   "cell_type": "code",
   "execution_count": null,
   "metadata": {},
   "outputs": [],
   "source": [
    "query = f\"GRANT SELECT ON TABLE {schema_name}.{table_name} TO reader\"\n",
    "with engine.connect() as conn:\n",
    "    conn.execute(sa.text(query))\n",
    "    conn.commit()"
   ]
  }
 ],
 "metadata": {
  "kernelspec": {
   "display_name": "data-engineering-zoomcamp",
   "language": "python",
   "name": "python3"
  },
  "language_info": {
   "codemirror_mode": {
    "name": "ipython",
    "version": 3
   },
   "file_extension": ".py",
   "mimetype": "text/x-python",
   "name": "python",
   "nbconvert_exporter": "python",
   "pygments_lexer": "ipython3",
   "version": "3.12.4"
  }
 },
 "nbformat": 4,
 "nbformat_minor": 2
}
